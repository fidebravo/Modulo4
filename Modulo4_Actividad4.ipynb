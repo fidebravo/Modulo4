{
 "cells": [
  {
   "cell_type": "markdown",
   "metadata": {},
   "source": [
    "# Módulo 4 Actividad 4\n",
    "\n",
    "**Intención del aprendizaje esperado:**\n",
    "\n",
    "\n",
    "4. Realizar estimaciones de la media de una población utilizando intervalos de confianza a partir de una muestra aleatoria.\n",
    "\n",
    "**Ejercicios Planteados**"
   ]
  },
  {
   "cell_type": "markdown",
   "metadata": {},
   "source": [
    "**Caso 1**\n",
    "\n",
    "\n",
    "*Para estimar la proporción de habitantes de una ciudad que poseen ordenador personal se toma una muestra de tamaño n. Calcula el valor mínimo de n para garantizar, con un nivel de confianza del 95 %, que el error de estimación no supera el 2 %. (Como se desconoce la proporción, se hará a partir del caso más desfavorable, que será 0,5).*"
   ]
  },
  {
   "cell_type": "code",
   "execution_count": null,
   "metadata": {},
   "outputs": [],
   "source": [
    "import math\n",
    "\n",
    "z = 1.96\n",
    "margen_error = 0.02\n",
    "propocion_estimada = 0.5\n",
    "\n",
    "tamano_minimo_muestral = ((z**2) * propocion_estimada * (1 - propocion_estimada)) / (margen_error**2)\n",
    "tamano_minimo_muestral = math.ceil(tamano_minimo_muestral)\n",
    "\n",
    "\n",
    "print(' RESPUESTA '.center(108, '='))\n",
    "print()\n",
    "print(f'El tamaño necesario mínimo de la muestra, para asegurar con un nivel de confianza de 95% es de {tamano_minimo_muestral} personas')\n",
    "print()\n",
    "print('=' * 108)"
   ]
  },
  {
   "cell_type": "markdown",
   "metadata": {},
   "source": [
    "**Caso 2**\n",
    "\n",
    "\n",
    "Un fabricante de electrodomésticos sabe que la vida media de estos sigue una distribución normal con media 100 meses y desviación típica 12 meses. \n",
    "Determina el mínimo tamaño muestral que garantiza, con una probabilidad de 0,98, que la vida media de los electrodomésticos en dicha muestra se encuentre entre 90 y 100 meses."
   ]
  },
  {
   "cell_type": "code",
   "execution_count": null,
   "metadata": {},
   "outputs": [],
   "source": [
    "import scipy.stats as  stats\n",
    "\n",
    "mu = 100\n",
    "sigma = 12\n",
    "probabilidad = 0.98\n",
    "\n",
    "z = stats.norm.ppf((1 + probabilidad) / 2)\n",
    "intervalo_confianza = 100 - 90\n",
    "\n",
    "minimo_tamano_muestra = math.ceil(((z * sigma) / intervalo_confianza) ** 2)\n",
    "\n",
    "print(' RESPUESTA '.center(44, '='))\n",
    "print()\n",
    "print(f'El tamaño muestral mínimo necesario es: {minimo_tamano_muestra:.2f}')\n",
    "print()\n",
    "print('=' * 44)\n"
   ]
  },
  {
   "cell_type": "markdown",
   "metadata": {},
   "source": [
    "**Caso 3**\n",
    "\n",
    "\n",
    "***Se desea obtener la media de una variable aleatoria que se distribuye normalmente con una desviación típica de 3,2. Para ello se toma una muestra de 64 individuos obteniéndose una media de 32,5.***\n",
    "\n",
    "a) ¿Con qué nivel de confianza se puede afirmar que la media de la población está entre 31,5 y 33,5?"
   ]
  },
  {
   "cell_type": "markdown",
   "metadata": {},
   "source": [
    "Recordemos la fórmula del intervalo de confianza\n",
    "\n",
    "*Intervalo de Confianza = X +- Z *σ/√n*\n",
    "\n",
    "Reemplazando los valores:"
   ]
  },
  {
   "cell_type": "code",
   "execution_count": null,
   "metadata": {},
   "outputs": [],
   "source": [
    "intervalo_mayor = 33.5\n",
    "media_muestral = 32.5\n",
    "desviacion_standar = 3.2\n",
    "tamano_muestra = 64\n",
    "\n",
    "desv_std_entre_raiz_cuad_tamano_muestra =  desviacion_standar / tamano_muestra ** 0.5\n",
    "\n",
    "z_derecha_media_muestral = (intervalo_mayor - media_muestral) / desv_std_entre_raiz_cuad_tamano_muestra\n",
    "\n",
    "\n",
    "nivel_confianza = stats.norm.cdf(z_derecha_media_muestral) - stats.norm.cdf(- z_derecha_media_muestral)\n",
    "nivel_confianza\n",
    "\n",
    "print(' RESPUESTA a)'.center(96, '='))\n",
    "print()\n",
    "print(f'Podemos asegurar con un {nivel_confianza:.4f} de seguridad que la media poblacional se encuentra en 31.5 y 33.5')\n",
    "print()\n",
    "print('=' * 96)\n"
   ]
  },
  {
   "cell_type": "markdown",
   "metadata": {},
   "source": [
    "b) Si la desviación típica de la población fuera 3, ¿qué tamaño mínimo debería tener la muestra con la cual estimamos la media poblacional si queremos que el nivel de confianza sea del 99 %, y el error admisible no supere el valor de 0,75?\n"
   ]
  },
  {
   "cell_type": "code",
   "execution_count": null,
   "metadata": {},
   "outputs": [],
   "source": [
    "nivel_confianza_3_2 = 0.99\n",
    "z_3_2 = stats.norm.ppf((1 + nivel_confianza_3_2) / 2)\n",
    "margen_error_3_2 = 0.75\n",
    "sigma_3_2 = 3\n",
    "\n",
    "tamano_muestra_3_2 = math.ceil(((z_3_2 * sigma_3_2) / margen_error_3_2) ** 2)\n",
    "\n",
    "print(' RESPUESTA '.center(107, '='))\n",
    "print()\n",
    "print(f'El tamaño necesario mínimo de la muestra, para asegurar con un nivel de confianza de 99% es de {tamano_muestra_3_2} personas')\n",
    "print()\n",
    "print('=' * 107)\n"
   ]
  }
 ],
 "metadata": {
  "kernelspec": {
   "display_name": "base",
   "language": "python",
   "name": "python3"
  },
  "language_info": {
   "codemirror_mode": {
    "name": "ipython",
    "version": 3
   },
   "file_extension": ".py",
   "mimetype": "text/x-python",
   "name": "python",
   "nbconvert_exporter": "python",
   "pygments_lexer": "ipython3",
   "version": "3.11.7"
  }
 },
 "nbformat": 4,
 "nbformat_minor": 2
}
