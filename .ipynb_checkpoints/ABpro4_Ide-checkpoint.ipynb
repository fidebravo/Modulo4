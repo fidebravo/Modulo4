{
 "cells": [
  {
   "cell_type": "markdown",
   "metadata": {},
   "source": [
    "# Módulo 4 Sprint"
   ]
  },
  {
   "cell_type": "markdown",
   "metadata": {},
   "source": [
    "**Objetivo del proyecto**\n",
    "*(Competencias del módulo)*\n",
    "\n",
    "\n",
    "Elaborar inferencias estadísticas a una muestra para la estimación de una población de acuerdo a los requerimientos de análisis."
   ]
  },
  {
   "cell_type": "code",
   "execution_count": 9,
   "metadata": {},
   "outputs": [
    {
     "name": "stdout",
     "output_type": "stream",
     "text": [
      "            index  0\n",
      "0              Id  0\n",
      "1      MSSubClass  0\n",
      "2        MSZoning  0\n",
      "3         LotArea  0\n",
      "4          Street  0\n",
      "..            ... ..\n",
      "70         MoSold  0\n",
      "71         YrSold  0\n",
      "72       SaleType  0\n",
      "73  SaleCondition  0\n",
      "74      SalePrice  0\n",
      "\n",
      "[75 rows x 2 columns]\n"
     ]
    }
   ],
   "source": [
    "import pandas as pd\n",
    "import numpy as np\n",
    "import matplotlib.pyplot as plt\n",
    "import seaborn as sns\n",
    "import warnings\n",
    "warnings.filterwarnings('ignore')\n",
    "\n",
    "house = pd.read_csv('house.csv')\n",
    "df_house = pd.DataFrame(house)\n",
    "\n",
    "df_house = df_house.drop(columns=['Alley', 'FireplaceQu', 'PoolQC', 'Fence', 'MiscFeature', 'LotFrontage'])\n",
    "isna = df_house.isna().sum()\n",
    "df_isna = pd.DataFrame(isna).reset_index()\n",
    "\n",
    "print(df_isna)\n",
    "#print(df_house)"
   ]
  },
  {
   "cell_type": "code",
   "execution_count": null,
   "metadata": {},
   "outputs": [],
   "source": []
  }
 ],
 "metadata": {
  "kernelspec": {
   "display_name": "base",
   "language": "python",
   "name": "python3"
  },
  "language_info": {
   "codemirror_mode": {
    "name": "ipython",
    "version": 3
   },
   "file_extension": ".py",
   "mimetype": "text/x-python",
   "name": "python",
   "nbconvert_exporter": "python",
   "pygments_lexer": "ipython3",
   "version": "3.11.7"
  }
 },
 "nbformat": 4,
 "nbformat_minor": 2
}
