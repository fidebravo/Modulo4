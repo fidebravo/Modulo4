{
 "cells": [
  {
   "cell_type": "markdown",
   "metadata": {},
   "source": [
    "# Módulo 4 Actividad 5\n",
    "\n",
    "**Intención del aprendizaje esperado:**\n",
    "\n",
    "\n",
    "1. Explicar los principales conceptos de probabilidad asociados a un evento aleatorio.\n",
    "\n",
    "**Ejercicios Planteados**"
   ]
  },
  {
   "cell_type": "markdown",
   "metadata": {},
   "source": [
    "**Caso 1**\n",
    "\n",
    "\n",
    "Se sabe que la media del consumo de energía eléctrica en cierta provincia es de 721 kwh.\n",
    "Una empresa tecnológica de la región cree que sus empleados consumen más que el promedio provincial. Recoge información sobre los consumos de 20 empleados escogidos al azar, y obtiene los siguientes datos:\n",
    "\n",
    "\n",
    "<img src='tabla5.jpg'>\n"
   ]
  },
  {
   "cell_type": "markdown",
   "metadata": {},
   "source": [
    "Si la distribución del consumo mensual de energía eléctrica es normal:\n",
    "\n",
    "\n",
    "a) ¿Hay evidencias para afirmar que el promedio del consumo de energía eléctrica hogareño de los empleados de la empresa es superior a la media del consumo a nivel provincial? Usar un nivel de significación del 10%."
   ]
  },
  {
   "cell_type": "markdown",
   "metadata": {},
   "source": [
    "### Prueba de Hipótesis\n",
    "\n",
    "**- Hipótesis nula (H0):** *El promedio del consumo de energía eléctrica hogareño de los empleados de la empresa es menor o igual que la media provincial (X <= 721 kwh).*\n",
    "\n",
    "\n",
    "**- Hipótesis alternativa (H1):** *El promedio del consumo de energía eléctrica hogareño de los empleados de la empresa es mayor que la media provincial (X > 721 kwh).*\n",
    "\n",
    "\n",
    "\n",
    "**Estadístico de Prueba:** Debido a que no conocemos la desviación estandar de la población y que el tamaño de la muestra es pequeño, usaremos una prueba ***t*** como estadístico de prueba.\n",
    "\n",
    "\n",
    "<img src='estadisticot.jpg'>\n",
    "\n",
    "\n",
    "**Nivel de Significación:** 10%.  El valor correspondiente al 0.10 para 19 grados de libertad en la Tabla t de Student es = 1.3277"
   ]
  },
  {
   "cell_type": "code",
   "execution_count": null,
   "metadata": {},
   "outputs": [],
   "source": [
    "import numpy as np\n",
    "import scipy.stats as ss\n",
    "import matplotlib.pyplot as plt\n",
    "import seaborn as sns\n",
    "import warnings\n",
    "warnings.filterwarnings(\"ignore\")\n",
    "\n",
    "\n",
    "consumos = [710, 732, 654, 760, 774, 675, 757, 718, 814, 755, 736, 774, 768, 770, 677, 747, 823, 660, 797, 796]\n",
    "tamano_muestra = len(consumos)\n",
    "media_muestral = np.mean(consumos)\n",
    "des_std_muestral = np.std(consumos, ddof=1)\n",
    "media_poblacional = 721\n",
    "\n",
    "valor_t_10perc_19_dof = 1.3277\n",
    "valor_t_muestra = (media_muestral - media_poblacional) /  (des_std_muestral / np.sqrt(tamano_muestra))\n",
    "\n",
    "plt.figure(figsize=(8, 5))\n",
    "sns.histplot(data=consumos, color='pink', bins=9, kde=True)\n",
    "\n",
    "plt.title('Histograma Consumo Eléctrico Empleados')\n",
    "plt.axvline(media_poblacional, color='red', linestyle='--', label=f'µ {media_poblacional}')\n",
    "plt.axvline(media_muestral, color='blue', linestyle='--', label=f'X muestra {media_muestral}')\n",
    "plt.xlabel('Consumo Electrico')\n",
    "plt.ylabel('Frecuencia')\n",
    "plt.yticks([1, 2, 3,4])\n",
    "\n",
    "plt.legend()\n",
    "plt.show()\n"
   ]
  },
  {
   "cell_type": "code",
   "execution_count": null,
   "metadata": {},
   "outputs": [],
   "source": [
    "print(' RESPUESTA '.center(155, '='))\n",
    "print()\n",
    "print(f'- El valor calculado de \"t\" con {tamano_muestra} observaciones, media muestral de {media_muestral} y desviación standar calculada de {des_std_muestral:.4f} para \"µ\" {media_poblacional} es de: {valor_t_muestra:.4f}.-')\n",
    "print(f'- El valor crítico de \"t\" con 19 grados de libertad y 10% de significancia según tabla t de Student es: {valor_t_10perc_19_dof}.-')\n",
    "print()\n",
    "print('=' * 155)"
   ]
  },
  {
   "cell_type": "markdown",
   "metadata": {},
   "source": [
    "## Conclusión\n",
    "\n",
    "Se realiza prueba t con 10% de significancia para un tamaño muestral de 20 individuos en el que se quiere saber si la media de la variable consumo electrico de los trabajadores de una compañía es mayor que la media poblacional.\n",
    "\n",
    "El resultado del test de hipótesis nos revela que el valor calculado para t es mayor que el valor crítico (2.1516 > 1.327) por este motivo existen evidencias suficientes para rechazar la hipótesis nula y aceptar la hipótesis alternativa, la cual establece que la media de consumo eléctrico de los empleados de la compañía es mayor que la media poblacional."
   ]
  },
  {
   "cell_type": "markdown",
   "metadata": {},
   "source": [
    "b) ¿Cuál es el valor p de la decisión?"
   ]
  },
  {
   "cell_type": "code",
   "execution_count": null,
   "metadata": {},
   "outputs": [],
   "source": [
    "from scipy.stats import t\n",
    "\n",
    "valor_p = t.sf(valor_t_muestra, tamano_muestra - 1)\n",
    "\n",
    "print(' RESPUESTA '.center(36, '='))\n",
    "print()\n",
    "print(f'El valor calculado para p es: {valor_p:.4f}')\n",
    "print()\n",
    "print('=' * 36)"
   ]
  },
  {
   "cell_type": "markdown",
   "metadata": {},
   "source": [
    "## Contraprueba\n",
    "\n",
    "El valor p calculado es de 0.0223, el cual es menor al nivel de significancia 0.10.  Esta razón nos confirma que existen evidencias suficientes para rechazar H0 y aceptar H1 que establece que la media de consumo eléctrico de los trabajadores de la compañía es superior a la media de consumo eléctrico poblacional."
   ]
  },
  {
   "cell_type": "markdown",
   "metadata": {},
   "source": []
  }
 ],
 "metadata": {
  "kernelspec": {
   "display_name": "base",
   "language": "python",
   "name": "python3"
  },
  "language_info": {
   "codemirror_mode": {
    "name": "ipython",
    "version": 3
   },
   "file_extension": ".py",
   "mimetype": "text/x-python",
   "name": "python",
   "nbconvert_exporter": "python",
   "pygments_lexer": "ipython3",
   "version": "3.11.7"
  }
 },
 "nbformat": 4,
 "nbformat_minor": 2
}
