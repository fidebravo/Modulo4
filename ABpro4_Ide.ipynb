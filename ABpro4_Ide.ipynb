{
 "cells": [
  {
   "cell_type": "markdown",
   "metadata": {},
   "source": [
    "# Módulo 4 Sprint"
   ]
  },
  {
   "cell_type": "markdown",
   "metadata": {},
   "source": [
    "**Objetivo del proyecto**\n",
    "*(Competencias del módulo)*\n",
    "\n",
    "\n",
    "Elaborar inferencias estadísticas a una muestra para la estimación de una población de acuerdo a los requerimientos de análisis."
   ]
  },
  {
   "cell_type": "code",
   "execution_count": null,
   "metadata": {},
   "outputs": [],
   "source": [
    "import pandas as pd\n",
    "import numpy as np\n",
    "import matplotlib.pyplot as plt\n",
    "import seaborn as sns\n",
    "import warnings\n",
    "warnings.filterwarnings('ignore')\n",
    "\n",
    "house = pd.read_csv('house.csv')\n",
    "df_house = pd.DataFrame(house)\n",
    "\n",
    "df_house = df_house.drop(columns=['Alley', 'FireplaceQu', 'PoolQC', 'Fence', 'MiscFeature', 'LotFrontage'])\n",
    "\n",
    "df_house\n",
    "\n"
   ]
  },
  {
   "cell_type": "markdown",
   "metadata": {},
   "source": [
    "***Con la previsualización del df podemos notar que existen pocas columnas con datos numéricos que podemos trabajar de manera estadística motivo por el cual haremos una mayor limpieza de las variables eligiendo solo 8 de ellas, las cuales para este análisis debieran resultar más útiles***"
   ]
  },
  {
   "cell_type": "code",
   "execution_count": null,
   "metadata": {},
   "outputs": [],
   "source": [
    "elegidas = ['LotArea', 'OverallCond', 'YearBuilt', 'Foundation', '1stFlrSF', 'SaleCondition', 'SalePrice', 'YrSold']\n",
    "\n",
    "columnas_a_eliminar = [col for col in df_house.columns if col not in elegidas]\n",
    "df_elegido = df_house.drop(columns=columnas_a_eliminar)\n",
    "\n",
    "df_elegido\n"
   ]
  },
  {
   "cell_type": "markdown",
   "metadata": {},
   "source": [
    "***Se generan gráficos de manera de poder visualizar las distribución buscando la existencia de outliers que podrían afectar los resultados.***"
   ]
  },
  {
   "cell_type": "code",
   "execution_count": null,
   "metadata": {},
   "outputs": [],
   "source": [
    "# Crear subplots\n",
    "fig, axes = plt.subplots(1, 4, figsize=(18, 5), sharey=True)\n",
    "\n",
    "\n",
    "sns.histplot(ax=axes[0], data=df_elegido, x='LotArea', kde=True)\n",
    "axes[0].set_title('Histograma de Area Vivienda')\n",
    "axes[0].set_ylabel('Cantidad')\n",
    "axes[0].set_xlabel('Area del Lote (pies cuadrados)')\n",
    "# Histograma para Feature2\n",
    "sns.histplot(ax=axes[1], data=df_elegido, x='1stFlrSF', kde=True)\n",
    "axes[1].set_title('Histograma de Pies Cuadrado Primer Piso')\n",
    "axes[1].set_xlabel('Area Primer Piso (pies cuadrados)')\n",
    "\n",
    "sns.histplot(ax=axes[2], data=df_elegido, x='SalePrice', kde=True)\n",
    "axes[2].set_title('Histograma Precio de Venta')\n",
    "axes[2].set_xlabel('Precio en Dólares ($)')\n",
    "axes[2].tick_params(axis='x', labelsize=8)\n",
    "\n",
    "sns.histplot(ax=axes[3], data=df_elegido, x='YearBuilt', kde=True)\n",
    "axes[3].set_title('Histograma por Años de Construcción')\n",
    "axes[3].set_xlabel('Año de Construcción')\n",
    "\n",
    "\n",
    "\n",
    "plt.tight_layout()\n",
    "plt.show()\n",
    "\n",
    "\n"
   ]
  },
  {
   "cell_type": "markdown",
   "metadata": {},
   "source": [
    "***Se puede observar que en las variables Area Vivienda, Área Primer Piso y Precio existe una distribución similar a la distribución normal corrida hacia la izquierda lo que sugiere que existen outliers o valores atipicos hacia los valores altos.***"
   ]
  },
  {
   "cell_type": "code",
   "execution_count": null,
   "metadata": {},
   "outputs": [],
   "source": [
    "fig, ax = plt.subplots(1, 3, figsize= (14,7), sharey=True)\n",
    "\n",
    "z = df_elegido['1stFlrSF']\n",
    "y = df_elegido['SalePrice']\n",
    "x = df_elegido['LotArea']\n",
    "w = df_elegido['YearBuilt']\n",
    "precio_limite = 200000\n",
    "area_lote_limite = 15000\n",
    "area_primer_piso_limite = 1500\n",
    "\n",
    "# --------------------------------------------------------------------------------------------\n",
    "\n",
    "ax[0].scatter(x, y, color='gray', alpha=0.5)\n",
    "ax[0].set_title('Área del Lote vs Precio')\n",
    "ax[0].set_xlabel('Área del Lote')\n",
    "ax[0].set_ylabel('Precio')\n",
    "ax[0].axhline(precio_limite, color='red', linestyle='-.', label='$ 200.000')\n",
    "ax[0].axvline(area_lote_limite, color='red', linestyle=':', label='15.000 ft')\n",
    "ax[0].legend()\n",
    "\n",
    "# ----------------------------------------------------------------------------------------------\n",
    "\n",
    "ax[1].scatter(z, y, alpha=0.5)\n",
    "ax[1].set_title('Área Primer Piso vs Precio')\n",
    "ax[1].set_xlabel('Área Primer Piso')\n",
    "ax[1].axhline(precio_limite, color='red', linestyle='-.', label='$ 200.000')\n",
    "ax[1].axvline(area_primer_piso_limite, color='red', linestyle=':', label='1.500 ft')\n",
    "ax[1].legend()\n",
    "\n",
    "# ----------------------------------------------------------------------------------------------\n",
    "\n",
    "ax[2].scatter(w, y, color='fuchsia',alpha=0.5)\n",
    "ax[2].set_title('Año Construcción vs Precio')\n",
    "ax[2].set_xlabel('Año Construcción')\n",
    "ax[2].axhline(precio_limite, color='red', linestyle='-.', label='$ 200.000')\n",
    "ax[2].legend()\n",
    "\n",
    "plt.tight_layout()\n",
    "plt.show()"
   ]
  },
  {
   "cell_type": "markdown",
   "metadata": {},
   "source": [
    "***Los gráficos de dispersión, por otra parte, reflejan una alta concentración de casas en rangos acotados y se puede apreciar también la existencia de outliers.  Para el objetivo del ejercicio no serán considerados, de tal manera de poder configurar gráficos con distribución normal y que se ajusta de mejor manera al cliente objetivo.***"
   ]
  },
  {
   "cell_type": "code",
   "execution_count": null,
   "metadata": {},
   "outputs": [],
   "source": [
    "df_elegido_elegido = df_elegido[(df_elegido['SalePrice'] < 200000) & (df_elegido['LotArea'] < 15000) & (df_elegido['1stFlrSF'] < 1500)]\n",
    "df_elegido_elegido.describe()\n"
   ]
  },
  {
   "cell_type": "code",
   "execution_count": null,
   "metadata": {},
   "outputs": [],
   "source": [
    "moda_area_lote = df_elegido_elegido['LotArea'].mode()[0]\n",
    "moda_area_1_piso = df_elegido_elegido['1stFlrSF'].mode()[0]\n",
    "moda_precio_venta = df_elegido_elegido['SalePrice'].mode()[0]\n",
    "\n",
    "media_area_lote = round(df_elegido_elegido['LotArea'].mean(),2)\n",
    "media_area_1_piso = round(df_elegido_elegido['1stFlrSF'].mean(), 2)\n",
    "media_precio_venta = round(df_elegido_elegido['SalePrice'].mean(), 2)\n",
    "\n",
    "mediana_area_lote = df_elegido_elegido['LotArea'].median()\n",
    "mediana_area_1_piso = df_elegido_elegido['1stFlrSF'].median()\n",
    "mediana_precio_venta = df_elegido_elegido['SalePrice'].median()\n",
    "\n",
    "des_std_area_lote = df_elegido['LotArea'].std()\n",
    "des_std_area_1_piso = df_elegido['1stFlrSF'].std()\n",
    "des_std_precio_venta = df_elegido['SalePrice'].std()\n",
    "\n"
   ]
  },
  {
   "cell_type": "code",
   "execution_count": null,
   "metadata": {},
   "outputs": [],
   "source": [
    "fig, axes = plt.subplots(1, 3, figsize=(18, 5), sharey=True)\n",
    "\n",
    "\n",
    "sns.histplot(ax=axes[0], data=df_elegido_elegido, x='LotArea', kde=True)\n",
    "axes[0].set_title('Histograma de Area Vivienda')\n",
    "axes[0].set_ylabel('Cantidad')\n",
    "axes[0].set_xlabel('Area del Lote (pies cuadrados)')\n",
    "axes[0].axvline(moda_area_lote,  color=\"purple\", linestyle=\"--\", label=f'Moda {moda_area_lote}')\n",
    "axes[0].axvline(media_area_lote,  color=\"red\", linestyle=\":\", label=f'Media {media_area_lote}')\n",
    "axes[0].axvline(mediana_area_lote,  color=\"black\", linestyle=\":\", label=f'Mediana {mediana_area_lote}')\n",
    "axes[0].legend()\n",
    "axes[0].text(0.05, 0.9, f'Desviación estándar: {des_std_area_lote:.2f}', transform=axes[0].transAxes, fontsize=8)\n",
    "# Histograma para Feature2\n",
    "sns.histplot(ax=axes[1], data=df_elegido_elegido, x='1stFlrSF', kde=True)\n",
    "axes[1].set_title('Histograma de Pies Cuadrado Primer Piso')\n",
    "axes[1].set_xlabel('Area Primer Piso (pies cuadrados)')\n",
    "axes[1].axvline(moda_area_1_piso,  color=\"purple\", linestyle=\"--\", label=f'Moda {moda_area_1_piso}')\n",
    "axes[1].axvline(media_area_1_piso,  color=\"red\", linestyle=\":\", label=f'Moda {media_area_1_piso}')\n",
    "axes[1].axvline(mediana_area_1_piso,  color=\"black\", linestyle=\":\", label=f'Mediana {mediana_area_1_piso}')\n",
    "axes[1].legend()\n",
    "axes[1].text(0.05, 0.9, f'Desviación estándar: {des_std_area_1_piso:.2f}', transform=axes[1].transAxes, fontsize=8)\n",
    "\n",
    "sns.histplot(ax=axes[2], data=df_elegido_elegido, x='SalePrice', kde=True)\n",
    "axes[2].set_title('Histograma Precio de Venta')\n",
    "axes[2].set_xlabel('Precio en Dólares ($)')\n",
    "axes[2].axvline(moda_precio_venta,  color=\"purple\", linestyle=\"--\", label=f'Moda {moda_precio_venta}')\n",
    "axes[2].axvline(media_precio_venta,  color=\"red\", linestyle=\":\", label=f'Media {media_precio_venta}')\n",
    "axes[2].axvline(mediana_precio_venta,  color=\"pink\", linestyle=\":\", label=f'Mediana {mediana_precio_venta}')\n",
    "axes[2].legend()\n",
    "axes[2].text(0.05, 0.9, f'Desviación estándar: ${des_std_precio_venta:.2f}', transform=axes[2].transAxes, fontsize=8)\n",
    "\n",
    "plt.tight_layout()\n",
    "plt.show()\n"
   ]
  },
  {
   "cell_type": "markdown",
   "metadata": {},
   "source": [
    "***Luego de realizada la limpieza de datos eliminando outliers se puede ver en los gráficos que los datos tienden a demostrar una tendencia hacia la distribución normal.***"
   ]
  },
  {
   "cell_type": "markdown",
   "metadata": {},
   "source": [
    "***Crearemos una nueva variable 'Precio por Pies Cuadrados' que nos permita tener otra alternativa para el análisis.  Someteremos la nueva variable al mismo análisis.***"
   ]
  },
  {
   "cell_type": "code",
   "execution_count": null,
   "metadata": {},
   "outputs": [],
   "source": [
    "df_elegido_elegido['PricePerFeetSquare'] = df_elegido_elegido['SalePrice'] / df_elegido_elegido['LotArea']\n",
    "\n",
    "sns.histplot(data=df_elegido_elegido, x='PricePerFeetSquare', kde=True)\n",
    "\n",
    "plt.show()"
   ]
  },
  {
   "cell_type": "markdown",
   "metadata": {},
   "source": [
    "***El gráfico nos muestra una concentración de la muestra según la variable Precio por Pies Cuadrados hasta el valor de 28 aproximadamente, motivo por el cual usaremos ese valor como límite superior, eliminando los valores que sean superiores a él***"
   ]
  },
  {
   "cell_type": "code",
   "execution_count": null,
   "metadata": {},
   "outputs": [],
   "source": [
    "df_super_elegido = df_elegido_elegido[df_elegido_elegido['PricePerFeetSquare'] < 28]\n",
    "\n",
    "moda_area_lote = df_super_elegido['LotArea'].mode()[0]            # 7200\n",
    "moda_area_1_piso = df_super_elegido['1stFlrSF'].mode()[0]         # 864\n",
    "moda_precio_venta = df_super_elegido['SalePrice'].mode()[0]       # 140000\n",
    "moda_ppfs = df_super_elegido['PricePerFeetSquare'].mode()[0]      # 12.5\n",
    "\n",
    "media_area_lote = round(df_super_elegido['LotArea'].mean(),2)               # 9770.64\n",
    "media_area_1_piso = round(df_super_elegido['1stFlrSF'].mean(), 2)           # 197.83\n",
    "media_precio_venta = round(df_super_elegido['SalePrice'].mean(), 2)         # 159588.31\n",
    "media_ppfs = round(df_super_elegido['PricePerFeetSquare'].mean(), 2)        # 16.77\n",
    "\n",
    "mediana_area_lote = df_super_elegido['LotArea'].median()                    # 9525.0\n",
    "mediana_area_1_piso = df_super_elegido['1stFlrSF'].median()                 # 1044.0\n",
    "mediana_precio_venta = df_super_elegido['SalePrice'].median()               # 152000.0\n",
    "mediana_ppfs = round(df_super_elegido['PricePerFeetSquare'].median(), 2)    # 16.5\n",
    "\n"
   ]
  },
  {
   "cell_type": "code",
   "execution_count": null,
   "metadata": {},
   "outputs": [],
   "source": [
    "fig, axes = plt.subplots(1, 4, figsize=(18, 5), sharey=True)\n",
    "\n",
    "\n",
    "sns.histplot(ax=axes[0], data=df_super_elegido, x='LotArea', kde=True)\n",
    "axes[0].set_title('Histograma de Area Vivienda')\n",
    "axes[0].set_ylabel('Cantidad')\n",
    "axes[0].set_xlabel('Area del Lote (pies cuadrados)')\n",
    "axes[0].axvline(moda_area_lote,  color=\"purple\", linestyle=\"--\", label=f'Moda {moda_area_lote}')\n",
    "axes[0].axvline(media_area_lote,  color=\"red\", linestyle=\":\", label=f'Media {media_area_lote}')\n",
    "axes[0].axvline(mediana_area_lote,  color=\"black\", linestyle=\":\", label=f'Mediana {mediana_area_lote}')\n",
    "axes[0].legend()\n",
    "# Histograma para Feature2\n",
    "sns.histplot(ax=axes[1], data=df_super_elegido, x='1stFlrSF', kde=True)\n",
    "axes[1].set_title('Histograma de Pies Cuadrado Primer Piso')\n",
    "axes[1].set_xlabel('Area Primer Piso (pies cuadrados)')\n",
    "axes[1].axvline(moda_area_1_piso,  color=\"purple\", linestyle=\"--\", label=f'Moda {moda_area_1_piso}')\n",
    "axes[1].axvline(media_area_1_piso,  color=\"red\", linestyle=\":\", label=f'Moda {media_area_1_piso}')\n",
    "axes[1].axvline(mediana_area_1_piso,  color=\"black\", linestyle=\":\", label=f'Mediana {mediana_area_1_piso}')\n",
    "axes[1].legend()\n",
    "\n",
    "sns.histplot(ax=axes[2], data=df_super_elegido, x='SalePrice', kde=True)\n",
    "axes[2].set_title('Histograma Precio de Venta')\n",
    "axes[2].set_xlabel('Precio en Dólares ($)')\n",
    "axes[2].axvline(moda_precio_venta,  color=\"purple\", linestyle=\"--\", label=f'Moda {moda_precio_venta}')\n",
    "axes[2].axvline(media_precio_venta,  color=\"red\", linestyle=\"-\", label=f'Media {media_precio_venta}')\n",
    "axes[2].axvline(mediana_precio_venta,  color=\"pink\", linestyle=\"-.\", label=f'Mediana {mediana_precio_venta}')\n",
    "axes[2].legend()\n",
    "\n",
    "sns.histplot(ax=axes[3], data=df_super_elegido, x='PricePerFeetSquare', kde=True)\n",
    "axes[3].set_title('Histograma Precio por FeetSquare')\n",
    "axes[3].set_xlabel('Precio en Dólares ($)')\n",
    "axes[3].axvline(moda_ppfs,  color=\"purple\", linestyle=\"--\", label=f'Moda {moda_ppfs}')\n",
    "axes[3].axvline(media_ppfs,  color=\"red\", linestyle=\":\", label=f'Media {media_ppfs}')\n",
    "axes[3].axvline(mediana_ppfs,  color=\"pink\", linestyle=\":\", label=f'Mediana {mediana_ppfs}')\n",
    "axes[3].legend()\n",
    "\n",
    "plt.tight_layout()\n",
    "plt.show()\n"
   ]
  },
  {
   "cell_type": "markdown",
   "metadata": {},
   "source": [
    "***Con las nuevas dimensiones de la muestra, obtenemos resultados más cercanos a una distribución normal.  Usaremos estos datos para los cálculos requeridos, asumiendo a que son representativos de la población total.***"
   ]
  },
  {
   "cell_type": "markdown",
   "metadata": {},
   "source": [
    "## Calcular Intervalos de Confianza y graficarlos"
   ]
  },
  {
   "cell_type": "code",
   "execution_count": null,
   "metadata": {},
   "outputs": [],
   "source": [
    "import numpy as np\n",
    "import pandas as pd\n",
    "import statsmodels.stats.api as sms\n",
    "\n",
    "ic_area_lote = sms.DescrStatsW(df_super_elegido['LotArea']).tconfint_mean(alpha=0.01)\n",
    "ic_area_1_piso = sms.DescrStatsW(df_super_elegido['1stFlrSF']).tconfint_mean(alpha=0.01)\n",
    "ic_precio_venta = sms.DescrStatsW(df_super_elegido['SalePrice']).tconfint_mean(alpha=0.01)\n",
    "ic_ppfs = sms.DescrStatsW(df_super_elegido['PricePerFeetSquare']).tconfint_mean(alpha=0.01)\n",
    "\n",
    "fig, axes = plt.subplots(1, 4, figsize=(18, 5), sharey=True)\n",
    "\n",
    "\n",
    "sns.histplot(ax=axes[0], data=df_super_elegido, x='LotArea', kde=True)\n",
    "axes[0].set_title('Histograma de Area Vivienda')\n",
    "axes[0].set_ylabel('Cantidad')\n",
    "axes[0].set_xlabel('Area del Lote (pies cuadrados)')\n",
    "axes[0].axvline(media_area_lote,  color=\"red\", linestyle=\"-\", label=f'Media {media_area_lote}')\n",
    "axes[0].axvline(ic_area_lote[0],  color=\"purple\", linestyle=\"--\", label=f'IC_1 99% {ic_area_lote[0]:.2f}')\n",
    "axes[0].axvline(ic_area_lote[1],  color=\"purple\", linestyle=\"--\", label=f'IC_2 99% {ic_area_lote[1]:.2f}')\n",
    "axes[0].legend()\n",
    "# Histograma para Feature2\n",
    "sns.histplot(ax=axes[1], data=df_super_elegido, x='1stFlrSF', kde=True)\n",
    "axes[1].set_title('Histograma de Pies Cuadrado Primer Piso')\n",
    "axes[1].set_xlabel('Area Primer Piso (pies cuadrados)')\n",
    "axes[1].axvline(media_area_1_piso,  color=\"red\", linestyle=\"-\", label=f'Media {media_area_1_piso}')\n",
    "axes[1].axvline(ic_area_1_piso[0],  color=\"purple\", linestyle=\"--\", label=f'IC_1 99% {ic_area_1_piso[0]:.2f}')\n",
    "axes[1].axvline(ic_area_1_piso[1],  color=\"purple\", linestyle=\"--\", label=f'IC_2 99% {ic_area_1_piso[1]:.2f}')\n",
    "axes[1].legend()\n",
    "\n",
    "sns.histplot(ax=axes[2], data=df_super_elegido, x='SalePrice', kde=True)\n",
    "axes[2].set_title('Histograma Precio de Venta')\n",
    "axes[2].set_xlabel('Precio en Dólares ($)')\n",
    "axes[2].axvline(media_precio_venta,  color=\"red\", linestyle=\"-\", label=f'Media {media_precio_venta}')\n",
    "axes[2].axvline(ic_precio_venta[0],  color=\"purple\", linestyle=\"--\", label=f'IC_1 99% {ic_precio_venta[0]:.2f}')\n",
    "axes[2].axvline(ic_precio_venta[1],  color=\"purple\", linestyle=\"--\", label=f'IC_2 99% {ic_precio_venta[1]:.2f}')\n",
    "axes[2].legend()\n",
    "\n",
    "sns.histplot(ax=axes[3], data=df_super_elegido, x='PricePerFeetSquare', kde=True)\n",
    "axes[3].set_title('Histograma Precio por FeetSquare')\n",
    "axes[3].set_xlabel('Precio en Dólares ($)')\n",
    "axes[3].axvline(media_ppfs,  color=\"red\", linestyle=\"-\", label=f'Media {media_ppfs}')\n",
    "axes[3].axvline(ic_ppfs[0],  color=\"purple\", linestyle=\"--\", label=f'IC_1 99% {ic_ppfs[0]:.2f}')\n",
    "axes[3].axvline(ic_ppfs[1],  color=\"purple\", linestyle=\"--\", label=f'IC_2 99% {ic_ppfs[1]:.2f}')\n",
    "axes[3].legend()\n",
    "\n",
    "plt.tight_layout()\n",
    "plt.show()"
   ]
  },
  {
   "cell_type": "markdown",
   "metadata": {},
   "source": [
    "## Testee hipótesis que apoyen/no apoyen las ofertas de compra."
   ]
  },
  {
   "cell_type": "markdown",
   "metadata": {},
   "source": [
    "*Nota: En consideración que solo tenemos información respecto a las características de las viviendas y no de las ofertas o el ingreso del público al cual se quiere llegar con esta investigación, tomaremos como base la idea que una persona que no tiene mucho tiempo de salir de la universidad probablemente no cuente con un capital muy alto.  Por el motivo antes señalado, nuestra hipótesis apuntará a segregar las viviendas de nuestro catálogo en 2 grupos según su año de construcción e investigar respecto al precio promedio de ellas, poniendo como enunciado o hipótesis que las viviendas más nuevas tienen, en promedio, un precio mayor a la media de las viviendas totales, razón por la cual para una persona de las características planteadas en el problema, sea menos accesible la compra de un bien inmueble de estas características.*\n",
    "\n",
    "*Destacamos también que nuestro catálogo ya fue filtrado poniendo como precio máximo de las viviendas en $200.000 dólares y es sobre este catálogo que haremos la investigación*"
   ]
  },
  {
   "cell_type": "markdown",
   "metadata": {},
   "source": [
    "### H0: \\$ X Viviendas Nuevas Nuestro Catálogo = \\$ X Viviendas Nuestro Catálogo (Media Casas Nuevas <= 138.301)\n",
    "\n",
    "\n",
    "### H1: \\$ X Viviendas Nuevas Nuestro Catálogo > \\$ X Viviendas Nuestro Catálogo (Media Casas Nuevas > 138.301)\n",
    "\n",
    "*(Año de Construcción Viviendas Antiguas < 2000)*"
   ]
  },
  {
   "cell_type": "code",
   "execution_count": null,
   "metadata": {},
   "outputs": [],
   "source": [
    "\n",
    "df_super_elegido_nuevas = df_super_elegido[df_super_elegido['YearBuilt'] >= 2000]\n",
    "\n",
    "fig, axes = plt.subplots(1, 2, figsize=(12, 5), sharey=True)\n",
    "\n",
    "media_viviendas = round(df_super_elegido['SalePrice'].mean(), 2)        # 138301.61\n",
    "media_nuevas = round(df_super_elegido_nuevas['SalePrice'].mean(), 2)    # 178067.03\n",
    "\n",
    "\n",
    "sns.histplot(ax=axes[0], data=df_super_elegido, x='SalePrice', bins=12, kde=True)\n",
    "axes[0].set_title('Histograma Precio Viviendas', fontsize=9)\n",
    "axes[0].set_ylabel('Cantidad')\n",
    "axes[0].set_xlabel('Precio en Dólares')\n",
    "axes[0].tick_params(axis='x', labelsize=8)\n",
    "axes[0].axvline(media_viviendas,  color=\"red\", linestyle=\"-\", label=f'Media ${media_viviendas:.0f}')\n",
    "axes[0].legend()\n",
    "\n",
    "sns.histplot(ax=axes[1], data=df_super_elegido_nuevas, x='SalePrice', bins=12, kde=True)\n",
    "axes[1].set_title('Histograma Precio Viviendas Año Construcción 2000 en adelante', fontsize=9)\n",
    "axes[1].set_xlabel('Precio en Dólares')\n",
    "axes[1].tick_params(axis='x', labelsize=8)\n",
    "axes[1].axvline(media_nuevas,  color=\"red\", linestyle=\"-\", label=f'Media ${media_nuevas:.0f}')\n",
    "axes[1].legend()\n",
    "\n",
    "plt.show()"
   ]
  },
  {
   "cell_type": "markdown",
   "metadata": {},
   "source": [
    "En consideración del tamaño muestral, usaremos un estadístico de prueba asociado a la tabla Z, pues en los gráficos podemos observar una distribución de tendencia Normal.  Además establecemos un Nivel de Significancia del 10% para determinar si la diferencia del subgrupo es significativa o no, destacando que debido a que es una prueba de una cola, tendremos que calcular el valor z solo para el lado derecho de la distribución.  Estableceremos como parámetros de referencia la media y desviación estándar de la muestra filtrada ya que es contra lo que vamos a comparar el valor medio de las casas nuevas.\n",
    "\n",
    "<img src='estadisticoz.jpg'>\n",
    "\n",
    "***Nivel de Significancia: 10%***"
   ]
  },
  {
   "cell_type": "code",
   "execution_count": null,
   "metadata": {},
   "outputs": [],
   "source": [
    "from scipy.stats import norm\n",
    "import numpy as np\n",
    "\n",
    "alfa = 0.10\n",
    "z_prueba_1_cola_derecha = norm.ppf(1 - alfa)                                               # 1.2816\n",
    "\n",
    "des_std_viviendas = round(df_super_elegido['SalePrice'].std(), 0)                          # 32917\n",
    "tamano_catalogo_nuevas = df_super_elegido_nuevas.shape[0]                                  # 78\n",
    "media_df_super_elegido_nuevas = round(df_super_elegido_nuevas['SalePrice'].mean(), 2)      # 178067.03\n",
    "des_std_df_super_elegido_nuevas = round(df_super_elegido_nuevas['SalePrice'].std(), 2)     # 13879.94\n",
    "\n",
    "valor_z_muestra = (media_df_super_elegido_nuevas - media_viviendas) / (des_std_viviendas / np.sqrt(tamano_catalogo_nuevas))  # 10.67\n",
    "\n",
    "valor_p_para_z_muestra = 1 - norm.cdf(valor_z_muestra)\n"
   ]
  },
  {
   "cell_type": "code",
   "execution_count": null,
   "metadata": {},
   "outputs": [],
   "source": [
    "print(' ANTECEDENTES '.center(50, '='))\n",
    "print()\n",
    "print('Media Poblacional Viviendas'.ljust(35, '.') + f'US ${media_viviendas}.'.rjust(15))\n",
    "print('Media Viviendas Nuevas'.ljust(35, '.') + f'US ${media_nuevas}.'.rjust(15))\n",
    "print('Nivel de Significancia'.ljust(45, '.') + '10%.'.rjust(5))\n",
    "print('Valor Z Crítico'.ljust(42, '.') + f'{z_prueba_1_cola_derecha:.4f}.'.rjust(8))\n",
    "print('Valor Z Calculado'.ljust(41, '.') + f'{valor_z_muestra:.4f}.'.rjust(9))\n",
    "print('Valor p Crítico'.ljust(42, '.') + f'{alfa:.4f}.'.rjust(8))\n",
    "print('Valor p Calculado'.ljust(42, '.') + f'{valor_p_para_z_muestra:.4f}.'.rjust(8))\n"
   ]
  },
  {
   "cell_type": "markdown",
   "metadata": {},
   "source": [
    "# Conclusión\n",
    "\n",
    "De acuerdo a los datos recabados que se presentan en los antecedentes, y bajo los criterios de evaluación establecidos por nuestra investigación, de un nivel de significancia del 10%, rechazamos la Hipótesis Nula que proponía que los precios medios de las viviendas construídas desde el año 2000 en adelante son iguales o menores a la media total de las viviendas de nuestro catálogo ya que el valor promedio de las casas nuevas disponibles es muy superior al valor crítico establecido.  Como contraprueba, el valor p calculado es inferior al valor p Crítico.  Lo anterior implica que existen diferencias sustanciales de precio entre el grupo total de viviendas y las viviendas nuevas de nuestro catálogo y por lo tanto conviene ofrecer a nuestro cliente objetivo las casas de nuestro primer grupo que corresponden a casas construídas antes del año 2000.\n",
    "\n"
   ]
  }
 ],
 "metadata": {
  "kernelspec": {
   "display_name": "base",
   "language": "python",
   "name": "python3"
  },
  "language_info": {
   "codemirror_mode": {
    "name": "ipython",
    "version": 3
   },
   "file_extension": ".py",
   "mimetype": "text/x-python",
   "name": "python",
   "nbconvert_exporter": "python",
   "pygments_lexer": "ipython3",
   "version": "3.11.7"
  }
 },
 "nbformat": 4,
 "nbformat_minor": 2
}
