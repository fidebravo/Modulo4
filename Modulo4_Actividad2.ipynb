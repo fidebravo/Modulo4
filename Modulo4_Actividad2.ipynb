{
 "cells": [
  {
   "cell_type": "markdown",
   "metadata": {},
   "source": [
    "# Módulo 4 Actividad 2\n",
    "\n",
    "**Intención del aprendizaje esperado:**\n",
    "\n",
    "*2. Realizar cálculos de probabilidades seleccionando la distribución de probabilidades para resolver un problema*"
   ]
  },
  {
   "cell_type": "markdown",
   "metadata": {},
   "source": [
    "**Ejercicios Planteados**\n",
    "\n",
    "\n",
    "Use código py para calcular los problemas numéricos:\n"
   ]
  },
  {
   "cell_type": "markdown",
   "metadata": {},
   "source": [
    "<img src='imagen.jpg'>"
   ]
  },
  {
   "cell_type": "markdown",
   "metadata": {},
   "source": [
    "**Caso 1:** Variable aleatoria en Distribución normal\n",
    "\n",
    "\n",
    "*Si es una variable aleatoria de una distribución 𝑁𝑜𝑟𝑚𝑎𝑙(𝜇, 𝜎), hallar:*\n",
    "\n",
    "**𝑃(𝜇 − 3𝜎 < 𝑋 < 𝜇 + 3𝜎)**\n"
   ]
  },
  {
   "cell_type": "code",
   "execution_count": null,
   "metadata": {},
   "outputs": [],
   "source": [
    "from scipy.stats import norm\n",
    "\n",
    "mu = 0\n",
    "sigma = 1\n",
    "\n",
    "probabilidad = norm.cdf(3, mu, sigma) - norm.cdf(-3, mu, sigma)\n",
    "\n",
    "print(' RESPUESTA '.center(84,'='))\n",
    "print(f\"Usando la formula de distibución Normal, N(0, 1), la P(𝜇 - 3σ < X < 𝜇 + 3𝜎) = {probabilidad:.4f}\")\n",
    "print(''.center(84,'='))"
   ]
  },
  {
   "cell_type": "markdown",
   "metadata": {},
   "source": [
    "**Caso 2:** Distribución normal, media y desviación típica\n",
    "\n",
    "\n",
    "*En una distribución normal de media 4 y desviación típica 2, calcular el valor de 𝑎 para que: 𝑃(4 − 𝑎 < 𝑋 < 4 + 𝑎) = 0.5934*"
   ]
  },
  {
   "cell_type": "code",
   "execution_count": null,
   "metadata": {},
   "outputs": [],
   "source": [
    "import scipy.stats as ss\n",
    "\n",
    "mu = 4\n",
    "sigma = 2\n",
    "prob = 0.5934\n",
    "\n",
    "z = ss.norm.ppf((1 + prob) / 2)\n",
    "a = abs(z * sigma)\n",
    "\n",
    "print(' RESPUESTA '.center(86,'='))\n",
    "print(f\"El valor de 'a' para una media de 4 y desviación estándar 2 es aproximadamente: {a:.4f}\")\n",
    "print('=' * 86)"
   ]
  },
  {
   "cell_type": "markdown",
   "metadata": {},
   "source": [
    "**Caso 3: Distribución Normal**\n",
    "\n",
    "\n",
    "Dada una variable aleatoria continua Z, con distribución normal estándar, es decir, 𝑁(0,1), encuentre las siguientes probabilidades, usando código py.\n",
    "\n"
   ]
  },
  {
   "cell_type": "code",
   "execution_count": null,
   "metadata": {},
   "outputs": [],
   "source": [
    "'''a) P(0 < Z < 1,25) ='''\n",
    "\n",
    "limite_inferior = 0\n",
    "limite_superior = 1.25\n",
    "\n",
    "probabilidad_a = ss.norm.cdf(limite_superior) - ss.norm.cdf(limite_inferior)\n",
    "\n",
    "print(' RESPUESTA a) '.center(80,'='))\n",
    "print(f'La probabilidad de que la variable Z se encuentre entre P(0 < Z < 1.25) = {probabilidad_a:.4f}')\n",
    "print('=' * 80)"
   ]
  },
  {
   "cell_type": "code",
   "execution_count": null,
   "metadata": {},
   "outputs": [],
   "source": [
    "'''b) P(Z > 1.25) ='''\n",
    "\n",
    "z_b = 1.25\n",
    "\n",
    "probabilidad_b = 1 - ss.norm.cdf(z_b)\n",
    "\n",
    "print(' RESPUESTA b) '.center(76,'='))\n",
    "print(f'La probabilidad de que la variable Z se encuentre entre P(Z > 1.25) = {probabilidad_b:.4f}')\n",
    "print('=' * 76)"
   ]
  },
  {
   "cell_type": "code",
   "execution_count": null,
   "metadata": {},
   "outputs": [],
   "source": [
    "'''c) P(Z < - 1,25) ='''\n",
    "\n",
    "z_c = - 1.25\n",
    "\n",
    "probabilidad_c = ss.norm.cdf(z_c)\n",
    "\n",
    "print(' RESPUESTA c) '.center(78,'='))\n",
    "print(f'La probabilidad de que la variable Z se encuentre entre P(Z < - 1,25) = {probabilidad_c:.4f}')\n",
    "print('=' * 78)"
   ]
  },
  {
   "cell_type": "code",
   "execution_count": null,
   "metadata": {},
   "outputs": [],
   "source": [
    "'''d) P(0 < Z < 1,33) ='''\n",
    "\n",
    "limite_inferior_d = 0\n",
    "limite_superior_d = 1.33\n",
    "\n",
    "probabilidad_d = ss.norm.cdf(limite_superior_d) - ss.norm.cdf(limite_inferior_d)\n",
    "\n",
    "print(' RESPUESTA d) '.center(80,'='))\n",
    "print(f'La probabilidad de que la variable Z se encuentre entre P(0 < Z < 1.25) = {probabilidad_d:.4f}')\n",
    "print('=' * 80)"
   ]
  },
  {
   "cell_type": "code",
   "execution_count": null,
   "metadata": {},
   "outputs": [],
   "source": [
    "'''e) P(Z > 1,33) ='''\n",
    "\n",
    "z_e = 1.33\n",
    "\n",
    "probabilidad_e = 1 - ss.norm.cdf(z_e)\n",
    "\n",
    "print(' RESPUESTA e) '.center(76,'='))\n",
    "print(f'La probabilidad de que la variable Z se encuentre entre P(Z > 1.25) = {probabilidad_e:.4f}')\n",
    "print('=' * 76)"
   ]
  },
  {
   "cell_type": "code",
   "execution_count": null,
   "metadata": {},
   "outputs": [],
   "source": [
    "'''f) P(-1.33 < Z < 0) ='''\n",
    "\n",
    "limite_inferior_f = -1.33\n",
    "limite_superior_f = 0\n",
    "\n",
    "probabilidad_f = ss.norm.cdf(limite_superior_f) - ss.norm.cdf(limite_inferior_f)\n",
    "\n",
    "print(' RESPUESTA f)'.center(81,'='))\n",
    "print(f'La probabilidad de que la variable Z se encuentre entre P(-1.33 < Z < 0) = {probabilidad_f:.4f}')\n",
    "print(81*'=')"
   ]
  },
  {
   "cell_type": "markdown",
   "metadata": {},
   "source": [
    "**Caso 4: Distribución Normal para la aplicación de exámenes.**\n",
    "\n",
    "\n",
    "Se supone que los resultados de un examen siguen una distribución normal con media 78 y desviación típica 36.\n",
    "\n",
    "\n",
    "Se pide:"
   ]
  },
  {
   "cell_type": "markdown",
   "metadata": {},
   "source": [
    "- ¿Cuál es la probabilidad de que una persona que se presenta el examen obtenga una calificación superior a 72?\n"
   ]
  },
  {
   "cell_type": "code",
   "execution_count": null,
   "metadata": {},
   "outputs": [],
   "source": [
    "'''Con N(78, 36). P(Z > 72) ='''\n",
    "\n",
    "mu_4_1 = 78\n",
    "sigma_4_1 = 36\n",
    "limite_inferior_4_1 = 72\n",
    "\n",
    "z_score_4_1 = (limite_inferior_4_1 - mu_4_1) / sigma_4_1\n",
    "\n",
    "probabilidad_4_1 = 1 -ss.norm.cdf(z_score_4_1)\n",
    "\n",
    "\n",
    "print(' RESPUESTA 4.1 '.center(87,'='))\n",
    "print(f'La probabilidad de que una persona obtenga una calificación superior a 72 es de: {probabilidad_4_1:.4f}')\n",
    "print(87*'=')"
   ]
  },
  {
   "cell_type": "markdown",
   "metadata": {},
   "source": [
    "- Calcular la proporción de estudiantes que tienen puntuaciones que exceden por lo menos en cinco puntos de la puntuación que marca la frontera entre el Apto y el No-Apto (son declarados No-Aptos el 25% de los estudiantes que obtuvieron las puntuaciones más bajas)."
   ]
  },
  {
   "cell_type": "code",
   "execution_count": null,
   "metadata": {},
   "outputs": [],
   "source": [
    "p_4_2 = 0.2500\n",
    "\n",
    "# Calcular Z usando la función ppf\n",
    "z_score_4_2 = ss.norm.ppf(p_4_2)\n",
    "limite_inferior_apto = mu_4_1 + z_score_4_2 * sigma_4_1\n",
    "\n",
    "estudiantes_excende_5_puntos = limite_inferior_apto + 5\n",
    "z_score_4_2_2 = (estudiantes_excende_5_puntos - mu_4_1) / sigma_4_1\n",
    "\n",
    "probabilidad_4_2 = 1 - ss.norm.cdf(z_score_4_2_2)\n",
    "\n",
    "print(' RESPUESTA 4.2 '.center(106,'='))\n",
    "print(f'La proporcion de estudiantes que exceden en al menos 5 puntos el límite entre apto y no apto es de: {probabilidad_4_2:.4f}')\n",
    "print(106*'=')\n"
   ]
  },
  {
   "cell_type": "markdown",
   "metadata": {},
   "source": [
    "- Si se sabe que la calificación de un estudiante es mayor que 72, ¿cuál es la probabilidad de que su calificación sea, de hecho, superior a 84?"
   ]
  },
  {
   "cell_type": "code",
   "execution_count": null,
   "metadata": {},
   "outputs": [],
   "source": [
    "'''P(Z > 84)'''\n",
    "\n",
    "limite_inferior_4_3 = 84\n",
    "\n",
    "z_score_4_3 = (limite_inferior_4_3 - mu_4_1) / sigma_4_1\n",
    "\n",
    "probabilidad_4_3 = 1 - ss.norm.cdf(z_score_4_3)\n",
    "\n",
    "\n",
    "print(' RESPUESTA 4.3 '.center(87,'='))\n",
    "print(f'La probabilidad de que una persona obtenga una calificación superior a 84 es de: {probabilidad_4_3:.4f}')\n",
    "print('='*87)"
   ]
  },
  {
   "cell_type": "markdown",
   "metadata": {},
   "source": [
    "**Caso 5: Distribución Binomial.**\n",
    "\n",
    "\n",
    "Uno de los ítems de una prueba sorpresa consta de 12 preguntas de verdadero o falso. Suponiendo que los estudiantes no saben contestar a ninguna de ellas y, contestan al azar, hallar la probabilidad de obtener seis aciertos."
   ]
  },
  {
   "cell_type": "code",
   "execution_count": null,
   "metadata": {},
   "outputs": [],
   "source": [
    "\n",
    "cantidad_preguntas = 12\n",
    "preguntas_buenas_al_azar = 6\n",
    "probabilidad_de_la_respuesta = 0.5\n",
    "\n",
    "# Calcular la probabilidad usando scipy.stats\n",
    "probabilidad = ss.binom.pmf(preguntas_buenas_al_azar, cantidad_preguntas, probabilidad_de_la_respuesta)\n",
    "\n",
    "print(' RESPUESTA '.center(56,'='))\n",
    "print(f'La probabilidad de obtener 6 aciertos al azar es: {probabilidad:.4f}')\n",
    "print(56*'=')\n"
   ]
  },
  {
   "cell_type": "code",
   "execution_count": null,
   "metadata": {},
   "outputs": [],
   "source": []
  }
 ],
 "metadata": {
  "kernelspec": {
   "display_name": "base",
   "language": "python",
   "name": "python3"
  },
  "language_info": {
   "codemirror_mode": {
    "name": "ipython",
    "version": 3
   },
   "file_extension": ".py",
   "mimetype": "text/x-python",
   "name": "python",
   "nbconvert_exporter": "python",
   "pygments_lexer": "ipython3",
   "version": "3.11.7"
  }
 },
 "nbformat": 4,
 "nbformat_minor": 2
}
