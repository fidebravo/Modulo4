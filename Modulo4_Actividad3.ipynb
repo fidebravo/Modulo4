{
 "cells": [
  {
   "cell_type": "markdown",
   "metadata": {},
   "source": [
    "# Módulo 4 Actividad 3\n",
    "\n",
    "**Intención del aprendizaje esperado:**\n",
    "\n",
    "\n",
    "3. Realizar cálculos de probabilidad utilizando la distribución muestral para resolver un problema\n",
    "\n",
    "**Ejercicios Planteados**\n"
   ]
  },
  {
   "cell_type": "markdown",
   "metadata": {},
   "source": [
    "**Caso 1:**\n",
    "\n",
    "*Muestreo estratificado con afijación proporcional*\n",
    "\n",
    "Se desea tomar una muestra aleatoria estratificada de las personas mayores de edad de un municipio, cuyos estratos son los siguientes intervalos de edades, en años: de 18 a 30, de 31 a 45, de 46 a 60 y mayores de 60. En el primer intervalo hay 7500 personas, en el segundo hay 8400, en el tercero 5700 y en el cuarto 3000. \n",
    "Calcule el tamaño de la muestra total y su composición, sabiendo que el muestreo se hace con afijación proporcional y se han elegido al azar 375 personas del primer estrato."
   ]
  },
  {
   "cell_type": "code",
   "execution_count": 2,
   "metadata": {},
   "outputs": [
    {
     "name": "stdout",
     "output_type": "stream",
     "text": [
      "========================================= RESPUESTA ==========================================\n",
      "\n",
      "El tamaño total de la muestra es de 1230.  Los grupos están compuestos de la siguiente manera:\n",
      "\n",
      "       - Estrato 18 a 30 años: 375 personas, que representan al 0.3049 de la población        \n",
      "       - Estrato 31 a 45 años: 420 personas, que representan al 0.3415 de la población        \n",
      "       - Estrato 46 a 60 años: 285 personas, que representan al 0.2317 de la población        \n",
      "      - Estrato mayores 60 años: 150 personas, que representan al 0.1220 de la población      \n",
      "\n",
      "==============================================================================================\n"
     ]
    }
   ],
   "source": [
    "tramo_18_30 = 7500\n",
    "tramo_31_45 = 8400\n",
    "tramo_46_60 = 5700\n",
    "tramo_mayores_60 = 3000\n",
    "total_poblacion = tramo_18_30 + tramo_31_45 + tramo_46_60 + tramo_mayores_60\n",
    "\n",
    "proporcion_tramo_1 = tramo_18_30 / total_poblacion\n",
    "proporcion_tramo_2 =  tramo_31_45 / total_poblacion\n",
    "proporcion_tramo_3 = tramo_46_60 / total_poblacion\n",
    "proporcion_tramo_4 = tramo_mayores_60 / total_poblacion\n",
    "proporcion_total = proporcion_tramo_1 + proporcion_tramo_2 + proporcion_tramo_3 + proporcion_tramo_4\n",
    "\n",
    "cantidad_representativa_tramo_1 = 375\n",
    "\n",
    "cantidad_representativa_tramo_2 = int((cantidad_representativa_tramo_1 * proporcion_tramo_2) / proporcion_tramo_1)\n",
    "cantidad_representativa_tramo_3 = int((cantidad_representativa_tramo_1 * proporcion_tramo_3) / proporcion_tramo_1)\n",
    "cantidad_representativa_tramo_4 = int((cantidad_representativa_tramo_1 * proporcion_tramo_4) / proporcion_tramo_1)\n",
    "cantidad_representativa_total = int((cantidad_representativa_tramo_1 * proporcion_total) / proporcion_tramo_1)\n",
    "\n",
    "cantidad_representativa_total == cantidad_representativa_tramo_1 + cantidad_representativa_tramo_2 + cantidad_representativa_tramo_3 + cantidad_representativa_tramo_4\n",
    "\n",
    "print(' RESPUESTA '.center(94, '='))\n",
    "print()\n",
    "print(f'El tamaño total de la muestra es de {cantidad_representativa_total}.  Los grupos están compuestos de la siguiente manera:')\n",
    "print()\n",
    "print(f'- Estrato 18 a 30 años: {cantidad_representativa_tramo_1} personas, que representan al {proporcion_tramo_1:.4f} de la población'.center(94))\n",
    "print(f'- Estrato 31 a 45 años: {cantidad_representativa_tramo_2} personas, que representan al {proporcion_tramo_2:.4f} de la población'.center(94))\n",
    "print(f'- Estrato 46 a 60 años: {cantidad_representativa_tramo_3} personas, que representan al {proporcion_tramo_3:.4f} de la población'.center(94))\n",
    "print(f'- Estrato mayores 60 años: {cantidad_representativa_tramo_4} personas, que representan al {proporcion_tramo_4:.4f} de la población'.center(94))\n",
    "print()\n",
    "print(94*'=')"
   ]
  },
  {
   "cell_type": "markdown",
   "metadata": {},
   "source": [
    "**Caso 2**\n",
    "\n",
    "\n",
    "En un instituto hay 110 alumnos de 1º ESO, 99 de 2º ESO, 77 de 3º ESO y 66 de 4º ESO. Se toma una muestra para hacer una encuesta, usando muestreo estratificado con afijación proporcional. Se sabe que en la muestra había 20 alumnos de 1º ESO. ¿Cuántos alumnos hay en la muestra de los demás cursos y cuál es el tamaño de la muestra?"
   ]
  },
  {
   "cell_type": "code",
   "execution_count": 3,
   "metadata": {},
   "outputs": [
    {
     "name": "stdout",
     "output_type": "stream",
     "text": [
      "============================================ RESPUESTA =============================================\n",
      "\n",
      "El tamaño total de la muestra es de 64 alumnos.  Los grupos están compuestos de la siguiente manera:\n",
      "\n",
      "            - Alumnos 1ºESO: 20, que representan al 0.3125 de los alumnos de la muestra             \n",
      "            - Alumnos 2ºESO: 18, que representan al 0.2812 de los alumnos de la muestra             \n",
      "            - Alumnos 3ºESO: 14, que representan al 0.2188 de los alumnos de la muestra             \n",
      "            - Alumnos 4ºESO: 12, que representan al 0.1875 de los alumnos de la muestra             \n",
      "\n",
      "====================================================================================================\n"
     ]
    }
   ],
   "source": [
    "alumnos_1_eso = 110\n",
    "alumnos_2_eso = 99\n",
    "alumnos_3_eso = 77\n",
    "alumnos_4_eso = 66\n",
    "total_alumnos = alumnos_1_eso + alumnos_2_eso + alumnos_3_eso + alumnos_4_eso\n",
    "\n",
    "proporcion_alumnos_1 = alumnos_1_eso / total_alumnos\n",
    "proporcion_alumnos_2 = alumnos_2_eso / total_alumnos\n",
    "proporcion_alumnos_3 = alumnos_3_eso / total_alumnos\n",
    "proporcion_alumnos_4 = alumnos_4_eso / total_alumnos\n",
    "proporcion_total_alumnos = proporcion_alumnos_1 + proporcion_alumnos_2 + proporcion_alumnos_3 + proporcion_alumnos_4\n",
    "\n",
    "muestra_alumnos_1_eso = 20\n",
    "muestra_alumnos_2_eso = int((muestra_alumnos_1_eso * proporcion_alumnos_2) / proporcion_alumnos_1)\n",
    "muestra_alumnos_3_eso = int((muestra_alumnos_1_eso * proporcion_alumnos_3) / proporcion_alumnos_1)\n",
    "muestra_alumnos_4_eso = int((muestra_alumnos_1_eso * proporcion_alumnos_4) / proporcion_alumnos_1)\n",
    "total_muestra = muestra_alumnos_1_eso + muestra_alumnos_2_eso + muestra_alumnos_3_eso + muestra_alumnos_4_eso\n",
    "\n",
    "print(' RESPUESTA '.center(100, '='))\n",
    "print()\n",
    "print(f'El tamaño total de la muestra es de {total_muestra} alumnos.  Los grupos están compuestos de la siguiente manera:')\n",
    "print()\n",
    "print(f'- Alumnos 1ºESO: {muestra_alumnos_1_eso}, que representan al {proporcion_alumnos_1:.4f} de los alumnos de la muestra'.center(100))\n",
    "print(f'- Alumnos 2ºESO: {muestra_alumnos_2_eso}, que representan al {proporcion_alumnos_2:.4f} de los alumnos de la muestra'.center(100))\n",
    "print(f'- Alumnos 3ºESO: {muestra_alumnos_3_eso}, que representan al {proporcion_alumnos_3:.4f} de los alumnos de la muestra'.center(100))\n",
    "print(f'- Alumnos 4ºESO: {muestra_alumnos_4_eso}, que representan al {proporcion_alumnos_4:.4f} de los alumnos de la muestra'.center(100))\n",
    "print()\n",
    "print(100*'=')\n"
   ]
  },
  {
   "cell_type": "markdown",
   "metadata": {},
   "source": [
    "**Caso 3**\n",
    "\n",
    "\n",
    "Si el contenido en gr. de un determinado medicamento X sigue una distribución N(7.5,0.3), calcular la probabilidad de que para una muestra de tamaño n=5, se obtenga medio menor que 7, Pr ( X ≤ 7)."
   ]
  },
  {
   "cell_type": "code",
   "execution_count": 13,
   "metadata": {},
   "outputs": [
    {
     "name": "stdout",
     "output_type": "stream",
     "text": [
      "============================================================ RESPUESTA ============================================================\n",
      "\n",
      "En una muestra de 5 elementos elegidos al azar de una producción de medicamentos con distribución N(7.5 , 0.3), Pr(X <= 7) = 0.0001\n",
      "\n",
      "===================================================================================================================================\n"
     ]
    }
   ],
   "source": [
    "import scipy.stats as stats\n",
    "\n",
    "mu_produccion_total = 7.5\n",
    "sigma_produccion_total = 0.3\n",
    "\n",
    "\n",
    "tamano_muestra = 5\n",
    "\n",
    "\n",
    "mu_muestra = mu_produccion_total\n",
    "sigma_muestra = sigma_produccion_total / (tamano_muestra ** 0.5)\n",
    "\n",
    "X = 7\n",
    "\n",
    "Z = (X - mu_muestra) / sigma_muestra\n",
    "\n",
    "probabilidad = stats.norm.cdf(Z)\n",
    "\n",
    "print(' RESPUESTA '.center(131, '='))\n",
    "print()\n",
    "print(f'En una muestra de 5 elementos elegidos al azar de una producción de medicamentos con distribución N(7.5 , 0.3), Pr(X <= 7) = {probabilidad:.4f}')\n",
    "print()\n",
    "print('=' * 131)"
   ]
  },
  {
   "cell_type": "code",
   "execution_count": null,
   "metadata": {},
   "outputs": [],
   "source": []
  }
 ],
 "metadata": {
  "kernelspec": {
   "display_name": "base",
   "language": "python",
   "name": "python3"
  },
  "language_info": {
   "codemirror_mode": {
    "name": "ipython",
    "version": 3
   },
   "file_extension": ".py",
   "mimetype": "text/x-python",
   "name": "python",
   "nbconvert_exporter": "python",
   "pygments_lexer": "ipython3",
   "version": "3.11.7"
  }
 },
 "nbformat": 4,
 "nbformat_minor": 2
}
